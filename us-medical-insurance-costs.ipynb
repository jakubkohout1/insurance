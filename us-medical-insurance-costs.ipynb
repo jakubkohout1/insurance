{
 "cells": [
  {
   "cell_type": "markdown",
   "metadata": {},
   "source": [
    "# U.S. Medical Insurance Costs"
   ]
  },
  {
   "cell_type": "markdown",
   "metadata": {},
   "source": [
    "Goal: The goal of this project is to optimize the insurance cost in my future. This project will help me decide where to live if I want to have children and what my bmi should be (regarding bmi I will try to inspect if lower means alwas better). \n",
    "\n",
    "Data: For this project I am assuming that insurance is provided by one company. Also In the main part I won't focus on sex and smoking since I want change my sex and I will never smoke. So I will filter them out"
   ]
  },
  {
   "cell_type": "markdown",
   "metadata": {},
   "source": [
    "## Preparing Data\n",
    "Firstly I have imported pandas library and insurance.csv"
   ]
  },
  {
   "cell_type": "code",
   "execution_count": 2,
   "metadata": {},
   "outputs": [],
   "source": [
    "import csv\n",
    "import pandas as pd\n",
    "\n",
    "starting_df = pd.read_csv(\"insurance.csv\")\n",
    "test = 1111\n",
    "\n"
   ]
  },
  {
   "cell_type": "markdown",
   "metadata": {},
   "source": [
    "Now I want to check if there are any rows with Null or other \"bad\" values."
   ]
  },
  {
   "cell_type": "code",
   "execution_count": 3,
   "metadata": {},
   "outputs": [
    {
     "name": "stdout",
     "output_type": "stream",
     "text": [
      "[False]\n"
     ]
    }
   ],
   "source": [
    "\n",
    "def check_for_nulls (df):\n",
    "    df[\"nulls\"] = df.apply(lambda row: row.isnull().any(), axis=1)\n",
    "    return df\n",
    "test_null = check_for_nulls(starting_df)\n",
    "\n",
    "print(test_null[\"nulls\"].unique())\n",
    "\n"
   ]
  },
  {
   "cell_type": "code",
   "execution_count": 4,
   "metadata": {},
   "outputs": [
    {
     "name": "stdout",
     "output_type": "stream",
     "text": [
      "Index(['age', 'sex', 'bmi', 'children', 'smoker', 'region', 'charges'], dtype='object')\n"
     ]
    }
   ],
   "source": [
    "starting_df.drop(columns=['nulls'], inplace=True)\n",
    "print(starting_df.columns)"
   ]
  },
  {
   "cell_type": "markdown",
   "metadata": {},
   "source": [
    "## Minimizing My Insurance Cost: "
   ]
  },
  {
   "cell_type": "code",
   "execution_count": 5,
   "metadata": {},
   "outputs": [],
   "source": [
    "#Jakub's Code"
   ]
  },
  {
   "cell_type": "markdown",
   "metadata": {},
   "source": [
    "## Evaluating Cost-BMI relationship:\n",
    "### Steps Brainstorm:\n",
    " - What is the average cost of insurance. the ave bmi?\n",
    " "
   ]
  },
  {
   "cell_type": "code",
   "execution_count": null,
   "metadata": {},
   "outputs": [
    {
     "data": {
      "text/html": [
       "<div>\n",
       "<style scoped>\n",
       "    .dataframe tbody tr th:only-of-type {\n",
       "        vertical-align: middle;\n",
       "    }\n",
       "\n",
       "    .dataframe tbody tr th {\n",
       "        vertical-align: top;\n",
       "    }\n",
       "\n",
       "    .dataframe thead th {\n",
       "        text-align: right;\n",
       "    }\n",
       "</style>\n",
       "<table border=\"1\" class=\"dataframe\">\n",
       "  <thead>\n",
       "    <tr style=\"text-align: right;\">\n",
       "      <th></th>\n",
       "      <th>age</th>\n",
       "      <th>sex</th>\n",
       "      <th>bmi</th>\n",
       "      <th>children</th>\n",
       "      <th>smoker</th>\n",
       "      <th>region</th>\n",
       "      <th>charges</th>\n",
       "    </tr>\n",
       "  </thead>\n",
       "  <tbody>\n",
       "    <tr>\n",
       "      <th>0</th>\n",
       "      <td>19</td>\n",
       "      <td>female</td>\n",
       "      <td>27.900</td>\n",
       "      <td>0</td>\n",
       "      <td>yes</td>\n",
       "      <td>southwest</td>\n",
       "      <td>16884.92400</td>\n",
       "    </tr>\n",
       "    <tr>\n",
       "      <th>1</th>\n",
       "      <td>18</td>\n",
       "      <td>male</td>\n",
       "      <td>33.770</td>\n",
       "      <td>1</td>\n",
       "      <td>no</td>\n",
       "      <td>southeast</td>\n",
       "      <td>1725.55230</td>\n",
       "    </tr>\n",
       "    <tr>\n",
       "      <th>2</th>\n",
       "      <td>28</td>\n",
       "      <td>male</td>\n",
       "      <td>33.000</td>\n",
       "      <td>3</td>\n",
       "      <td>no</td>\n",
       "      <td>southeast</td>\n",
       "      <td>4449.46200</td>\n",
       "    </tr>\n",
       "    <tr>\n",
       "      <th>3</th>\n",
       "      <td>33</td>\n",
       "      <td>male</td>\n",
       "      <td>22.705</td>\n",
       "      <td>0</td>\n",
       "      <td>no</td>\n",
       "      <td>northwest</td>\n",
       "      <td>21984.47061</td>\n",
       "    </tr>\n",
       "    <tr>\n",
       "      <th>4</th>\n",
       "      <td>32</td>\n",
       "      <td>male</td>\n",
       "      <td>28.880</td>\n",
       "      <td>0</td>\n",
       "      <td>no</td>\n",
       "      <td>northwest</td>\n",
       "      <td>3866.85520</td>\n",
       "    </tr>\n",
       "  </tbody>\n",
       "</table>\n",
       "</div>"
      ],
      "text/plain": [
       "   age     sex     bmi  children smoker     region      charges\n",
       "0   19  female  27.900         0    yes  southwest  16884.92400\n",
       "1   18    male  33.770         1     no  southeast   1725.55230\n",
       "2   28    male  33.000         3     no  southeast   4449.46200\n",
       "3   33    male  22.705         0     no  northwest  21984.47061\n",
       "4   32    male  28.880         0     no  northwest   3866.85520"
      ]
     },
     "execution_count": 7,
     "metadata": {},
     "output_type": "execute_result"
    }
   ],
   "source": [
    "#Kaileb's Code\n",
    "starting_df.head()\n"
   ]
  },
  {
   "cell_type": "code",
   "execution_count": null,
   "metadata": {},
   "outputs": [
    {
     "name": "stdout",
     "output_type": "stream",
     "text": [
      "   index  bmi\n",
      "0      0   28\n",
      "1      1   34\n",
      "2      2   33\n",
      "3      3   23\n",
      "4      4   29\n",
      "5      5   26\n",
      "6      6   33\n",
      "7      7   28\n",
      "8      8   30\n",
      "9      9   26\n",
      "   bmi  bmi-freq\n",
      "0   16         1\n",
      "1   17         9\n",
      "2   18        11\n",
      "3   19         8\n",
      "4   20        24\n",
      "5   21        23\n",
      "6   22        35\n",
      "7   23        50\n",
      "8   24        57\n",
      "9   25        62\n",
      "   bmi       charges\n",
      "0   16   1694.796400\n",
      "1   17   6076.167378\n",
      "2   18  11402.702809\n",
      "3   19  10382.876080\n",
      "4   20   8756.253285\n",
      "5   21   7006.185911\n",
      "6   22  10432.877525\n",
      "7   23  10104.465317\n",
      "8   24  11675.051279\n",
      "9   25  12203.856403\n"
     ]
    }
   ],
   "source": [
    "#Assess Data set as a whole\n",
    "\n",
    "#Cost to BMI Frequency cart\n",
    "bmi_cost_freq = starting_df.bmi.apply(lambda bmi_float : round(bmi_float)).reset_index() \n",
    "print(bmi_cost_freq.head(10))\n",
    "\n",
    "bmi_cost_2 = starting_df.groupby(starting_df.bmi.apply(lambda bmi_float : round(bmi_float))).charges.count().reset_index().rename(columns={'charges': 'bmi-freq'})\n",
    "print(bmi_cost_2.head(10))\n",
    "bmi_cost_3 = starting_df.groupby(starting_df.bmi.apply(lambda bmi_float : round(bmi_float))).charges.mean().reset_index()\n",
    "print(bmi_cost_3.head(10))"
   ]
  },
  {
   "cell_type": "markdown",
   "metadata": {},
   "source": []
  }
 ],
 "metadata": {
  "kernelspec": {
   "display_name": "base",
   "language": "python",
   "name": "python3"
  },
  "language_info": {
   "codemirror_mode": {
    "name": "ipython",
    "version": 3
   },
   "file_extension": ".py",
   "mimetype": "text/x-python",
   "name": "python",
   "nbconvert_exporter": "python",
   "pygments_lexer": "ipython3",
   "version": "3.12.7"
  }
 },
 "nbformat": 4,
 "nbformat_minor": 4
}
