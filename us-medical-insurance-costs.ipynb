{
 "cells": [
  {
   "cell_type": "markdown",
   "metadata": {},
   "source": [
    "# U.S. Medical Insurance Costs"
   ]
  },
  {
   "cell_type": "markdown",
   "metadata": {},
   "source": [
    "Goal: The goal of this project is to optimize the insurance cost in my future. This project will help me decide where to live if I want to have children and what my bmi should be (regarding bmi I will try to inspect if lower means alwas better). \n",
    "\n",
    "Data: For this project I am assuming that insurance is provided by one company. Also In the main part I won't focus on sex and smoking since I want change my sex and I will never smoke. So I will filter them out"
   ]
  },
  {
   "cell_type": "markdown",
   "metadata": {},
   "source": [
    "## Preparing Data\n",
    "Firstly I have imported pandas library and insurance.csv"
   ]
  },
  {
   "cell_type": "code",
   "execution_count": 80,
   "metadata": {},
   "outputs": [],
   "source": [
    "import csv\n",
    "import pandas as pd\n",
    "\n",
    "starting_df = pd.read_csv(\"insurance.csv\")\n",
    "test = 1111\n",
    "\n"
   ]
  },
  {
   "cell_type": "markdown",
   "metadata": {},
   "source": [
    "Now I want to check if there are any rows with Null or other \"bad\" values."
   ]
  },
  {
   "cell_type": "code",
   "execution_count": 81,
   "metadata": {},
   "outputs": [
    {
     "name": "stdout",
     "output_type": "stream",
     "text": [
      "[False]\n"
     ]
    }
   ],
   "source": [
    "\n",
    "def check_for_nulls (df):\n",
    "    df[\"nulls\"] = df.apply(lambda row: row.isnull().any(), axis=1)\n",
    "    return df\n",
    "test_null = check_for_nulls(starting_df)\n",
    "\n",
    "print(test_null[\"nulls\"].unique())\n",
    "\n"
   ]
  },
  {
   "cell_type": "code",
   "execution_count": 82,
   "metadata": {},
   "outputs": [
    {
     "name": "stdout",
     "output_type": "stream",
     "text": [
      "Index(['age', 'sex', 'bmi', 'children', 'smoker', 'region', 'charges'], dtype='object')\n"
     ]
    }
   ],
   "source": [
    "starting_df.drop(columns=['nulls'], inplace=True)\n",
    "print(starting_df.columns)"
   ]
  },
  {
   "cell_type": "markdown",
   "metadata": {},
   "source": [
    "## Minimizing My Insurance Cost: "
   ]
  },
  {
   "cell_type": "code",
   "execution_count": 83,
   "metadata": {},
   "outputs": [],
   "source": [
    "#Jakub's Code"
   ]
  },
  {
   "cell_type": "markdown",
   "metadata": {},
   "source": [
    "## Evaluating Cost-BMI relationship:\n",
    "### Steps Brainstorm:\n",
    " - What is the average cost of insurance. the ave bmi?\n",
    "### Approach Breakdown\n",
    " - Add column that divides bmi into medical catagories: obese, etc\n",
    " - Find Mean and Medium Insurance cost within each bmi catagory\n",
    " - Loop through each peron in each bmi catagory, and find the mean and median cost paid by people of same/similar age, sex, region, children, smoking status (everything but bmi) and compare that to the mean and median cost at this bmi catagory. record the difference to see if there are any trends where people in a certain bmi catagory typically pay more or less than other of their same age,sec etc.\n",
    " "
   ]
  },
  {
   "cell_type": "markdown",
   "metadata": {},
   "source": [
    "### 1. Aggregate BMI catagories\n",
    "Add column with bmi catagories (source: [cdc.gov](https://www.cdc.gov/bmi/adult-calculator/bmi-categories.html))\n",
    "- Underweight: Less than 18.5\n",
    "- Healthy Weight: 18.5 to less than 25\n",
    "- Overweight: 25 to less than 30\n",
    "- Obesity: 30 or greater\n",
    "    - Class 1 Obesity: 30 to less than 35\n",
    "    - Class 2 Obesity: 35 to less than 40\n",
    "    - Class 3 (Severe) Obesity: 40 or greater\n",
    "\n",
    "*These catagories have been prefixed with letters to easily sort them in the dataframes by lowest to highest bmi*"
   ]
  },
  {
   "cell_type": "code",
   "execution_count": 84,
   "metadata": {},
   "outputs": [
    {
     "name": "stdout",
     "output_type": "stream",
     "text": [
      "Sample of df with new column added with bmi catagories:\n",
      "   age     sex     bmi  children smoker     region      charges      bmi_catagory\n",
      "0   19  female  27.900         0    yes  southwest  16884.92400      c_overweight\n",
      "1   18    male  33.770         1     no  southeast   1725.55230   d_class_1_obese\n",
      "2   28    male  33.000         3     no  southeast   4449.46200   d_class_1_obese\n",
      "3   33    male  22.705         0     no  northwest  21984.47061  b_healthy_weight\n",
      "4   32    male  28.880         0     no  northwest   3866.85520      c_overweight\n",
      "\n",
      " Grouping data by bmi catagory here are the average insurance costs and counts of each catagory:\n",
      "                       charges      \n",
      "                          mean count\n",
      "bmi_catagory                        \n",
      "a_underweight      8852.200585    20\n",
      "b_healthy_weight  10409.337709   225\n",
      "c_overweight      10987.509891   386\n",
      "d_class_1_obese   14419.674970   391\n",
      "e_class_2_obese   17022.258883   225\n",
      "f_class_3_obese   16784.615546    91\n"
     ]
    }
   ],
   "source": [
    "#Set pandas to display more columns per line\n",
    "pd.set_option('display.width',2000)\n",
    "\n",
    "#function to sort into bmi catagory\n",
    "def bmi_catagory_sorter(bmi):\n",
    "    if bmi >= 40:\n",
    "        return 'f_class_3_obese'\n",
    "    elif  bmi >= 35:\n",
    "        return 'e_class_2_obese'\n",
    "    elif  bmi >= 30:\n",
    "        return 'd_class_1_obese'\n",
    "    elif  bmi >= 25:\n",
    "        return 'c_overweight'\n",
    "    elif  bmi >= 18.5:\n",
    "        return 'b_healthy_weight'\n",
    "    elif  bmi < 18.5:\n",
    "        return 'a_underweight'\n",
    "    else:\n",
    "        return 'err: input should be a number'\n",
    "\n",
    "#Add columns with Adult BMI Category\n",
    "bmi_analysis_df = starting_df\n",
    "bmi_analysis_df['bmi_catagory'] = starting_df.bmi.apply(bmi_catagory_sorter)\n",
    "print('Sample of df with new column added with bmi catagories:')\n",
    "print(bmi_analysis_df.head())\n",
    "\n",
    "aggregate_by_bmi_catagory = bmi_analysis_df.groupby('bmi_catagory').agg({'charges':['mean','count']})\n",
    "print('\\n Grouping data by bmi catagory here are the average insurance costs and counts of each catagory:')\n",
    "print(aggregate_by_bmi_catagory)"
   ]
  },
  {
   "cell_type": "markdown",
   "metadata": {},
   "source": [
    "### 2. Compare individuals insurance cost to the average cost of similar people\n",
    "Defining **similar people**\n",
    " - age is +/- 2 years\n",
    " - sex, region, number of children, and smoking status are all the same\n",
    " - bmi is the the variable. We are checking similar people across all  bmi values\n",
    "\n",
    "Using this definition of **similar people** we calculate the average cost of insurance and compare it to each individual's cost with this formula:\n",
    "    \n",
    "### 100*$\\frac{*indidualCost* - *avgCost*}{*avgCost*}$\n",
    "We also record the sample size of **similar people**. With these two new columns we now group by BMI Catagory again identify and coorilation between\n",
    "BMI Catagroy and people paying more or less then the average cost of similar people across all BMI values."
   ]
  },
  {
   "cell_type": "code",
   "execution_count": 85,
   "metadata": {},
   "outputs": [],
   "source": [
    "#Define Functions\n",
    "#This function gets the count and average of insurance cost of each patiene with the imput age +/- 2 years, sex, children, smoker, region\n",
    "# - Essentially the average cost of a simlar people across all bmis and count to record the sample size\n",
    "def get_avg_with_bmi_variable(i_age,i_sex,i_children,i_smoker,i_region):\n",
    "    return bmi_analysis_df[((bmi_analysis_df.age <= i_age + 2) | (bmi_analysis_df.age >= i_age - 2) )\n",
    "                            & (bmi_analysis_df.sex == i_sex)\n",
    "                            & (bmi_analysis_df.children == i_children) \n",
    "                            & (bmi_analysis_df.smoker == i_smoker) \n",
    "                            & (bmi_analysis_df.region == i_region)].agg({'charges': ['mean', 'count']})\n",
    "\n",
    "#This function will run on all rows of bmi_analysis_df grouped by bmi_catagory \n",
    "# finding the difference between that individual's charges and the average charge of similar people calculated by the previous function\n",
    "# it returns: [percent diffence in cost from the avg, sample size of average]\n",
    "def get_percent_dif_from_avg(row):\n",
    "    #Pull data from row\n",
    "    i_charges = row['charges']\n",
    "    i_age = row['age']\n",
    "    i_sex = row['sex']\n",
    "    i_children = row['children']\n",
    "    i_smoker = row['smoker']\n",
    "    i_region = row['region']\n",
    "    #Use data to find all people of similar age and same: sex, number of children, smoker status and region\n",
    "    # Then get the count and average insurance cost of these people \n",
    "    avg_cost_of_similar_people = get_avg_with_bmi_variable(i_age,i_sex,i_children,i_smoker,i_region).iloc[0].charges\n",
    "    similar_people_smpl_size = int(get_avg_with_bmi_variable(i_age,i_sex,i_children,i_smoker,i_region).iloc[1].charges)\n",
    "    #Calculate the percent difference this person pays to insurce compared to the average of similar people\n",
    "    percent_diff_from_avg = round(100*((i_charges - avg_cost_of_similar_people)/avg_cost_of_similar_people),2)\n",
    "    return [percent_diff_from_avg,similar_people_smpl_size]"
   ]
  },
  {
   "cell_type": "code",
   "execution_count": 86,
   "metadata": {},
   "outputs": [
    {
     "name": "stdout",
     "output_type": "stream",
     "text": [
      "   age     sex     bmi  children smoker     region      charges      bmi_catagory  percent_cost_diff_from_similar_ppl_avg  similar_ppl_smpl_size\n",
      "0   19  female  27.900         0    yes  southwest  16884.92400      c_overweight                                  -38.44                   10.0\n",
      "1   18    male  33.770         1     no  southeast   1725.55230   d_class_1_obese                                  -78.89                   32.0\n",
      "2   28    male  33.000         3     no  southeast   4449.46200   d_class_1_obese                                  -56.76                   12.0\n",
      "3   33    male  22.705         0     no  northwest  21984.47061  b_healthy_weight                                  192.02                   53.0\n",
      "4   32    male  28.880         0     no  northwest   3866.85520      c_overweight                                  -48.64                   53.0\n"
     ]
    }
   ],
   "source": [
    "#Create two new columns: \n",
    "# - perenct difference in cost each person compared to the average cost of similar people\n",
    "# - sample size of similar people average\n",
    "bmi_analysis_df[['percent_cost_diff_from_similar_ppl_avg','similar_ppl_smpl_size']] = bmi_analysis_df.apply(get_percent_dif_from_avg,axis=1,result_type='expand')\n",
    "# Print sample of df with new columns\n",
    "print(bmi_analysis_df.head())\n"
   ]
  },
  {
   "cell_type": "code",
   "execution_count": 90,
   "metadata": {},
   "outputs": [
    {
     "name": "stdout",
     "output_type": "stream",
     "text": [
      "Step 2. Results: Grouped by BMI Catagory \n",
      " - Percent difference in insurance cost from average cost of similar people\n",
      " - Similar people sample size\n",
      "\n",
      "                  percent_cost_diff_from_similar_ppl_avg  similar_ppl_smpl_size\n",
      "bmi_catagory                                                                   \n",
      "a_underweight                                 -30.542500              35.700000\n",
      "b_healthy_weight                              -14.321733              32.368889\n",
      "c_overweight                                   -5.991736              33.932642\n",
      "d_class_1_obese                                 3.437801              32.989770\n",
      "e_class_2_obese                                18.439511              33.888889\n",
      "f_class_3_obese                                 7.177363              34.318681\n",
      "\n",
      "\n",
      "Step 1. Results: Grouped by BMI Catagory\n",
      " - Average Insurance cost\n",
      " - Number of people\n",
      "\n",
      "                       charges      \n",
      "                          mean count\n",
      "bmi_catagory                        \n",
      "a_underweight      8852.200585    20\n",
      "b_healthy_weight  10409.337709   225\n",
      "c_overweight      10987.509891   386\n",
      "d_class_1_obese   14419.674970   391\n",
      "e_class_2_obese   17022.258883   225\n",
      "f_class_3_obese   16784.615546    91\n"
     ]
    }
   ],
   "source": [
    "#Group df by bmi_catagory and calculate average percent_cost_diff_from_similar_ppl and average similar people sample size\n",
    "percent_cost_diff_by_bmi_catagory = bmi_analysis_df.groupby('bmi_catagory').agg({'percent_cost_diff_from_similar_ppl_avg':'mean', 'similar_ppl_smpl_size':'mean'})\n",
    "#cost_diff_by_bmi_catagory = bmi_analysis_df.groupby('bmi_catagory').cost_diff_from_avg.mean()\n",
    "\n",
    "print('Step 2. Results: Grouped by BMI Catagory \\n - Percent difference in insurance cost from average cost of similar people\\n - Similar people sample size\\n')\n",
    "print(percent_cost_diff_by_bmi_catagory)\n",
    "\n",
    "print('\\n\\nStep 1. Results: Grouped by BMI Catagory\\n - Average Insurance cost\\n - Number of people\\n')\n",
    "print(aggregate_by_bmi_catagory)"
   ]
  },
  {
   "cell_type": "markdown",
   "metadata": {},
   "source": [
    "## Reflections on BMI Analysis:\n",
    "### Coorilations\n",
    "In both Step 1. and 2. of this analysis we find **positive coorilation between BMI and Insurance costs**. Across 5 of the 6 catagories with see the trend of increased insurance charges with increased BMI\n",
    "\n",
    "The Class 2 Obesity to Class 3 Obesity Exception:\n",
    "The one exeption is the trend from Class 2 Obesity to Class 3 Obesity. In this catagory we see a decrease in both average insurance cost (Step 1) and average percent cost difference of simlar people (Step 2). \n",
    "\n",
    "In Step 1, the sample size is considarably lower for Class 3 Obsity than all but the Underweight catagory. In addition the Average Cost is only slightly lower than teh Average Cost of Class 2 Obesity. \n",
    "These two facts combine would seem to accound for the lapse in positive corrilation.\n",
    "\n",
    "In Step 2 however the average sample size is similar across all bmi catagories and the drop in Cost Percent Difference from Class 2 to Class 3 is quite dramatic. Therefore it could be warrented to further explore\n",
    "this sample to identify any other trends across the Class 2 and Class 3 Catagories that might contribute to this outlier in the positive coorilation.\n",
    "\n",
    "### Implications\n",
    "BMI is a Weight/Height ratio that was created with a goal of assessing the fat to body mass propotions. This goal is made clear by the names of the catagories given to different level of BMI. Each name clearly implies\n",
    "that fat levels and health of related to a person BMI. However BMI does not factor in, muscle mass, bone mass, or body proportion. Without accounting for these factors BMI is not a accura with to assess a person's fat levels\n",
    "or health with any acceptable level of accuratcy.\n",
    "\n",
    "Therefore the positive coorilation between BMI and \n",
    "\n",
    "### Potential Bias\n",
    "### Future Analysis"
   ]
  }
 ],
 "metadata": {
  "kernelspec": {
   "display_name": "base",
   "language": "python",
   "name": "python3"
  },
  "language_info": {
   "codemirror_mode": {
    "name": "ipython",
    "version": 3
   },
   "file_extension": ".py",
   "mimetype": "text/x-python",
   "name": "python",
   "nbconvert_exporter": "python",
   "pygments_lexer": "ipython3",
   "version": "3.12.7"
  }
 },
 "nbformat": 4,
 "nbformat_minor": 4
}
