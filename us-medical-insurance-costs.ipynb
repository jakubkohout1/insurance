{
 "cells": [
  {
   "cell_type": "markdown",
   "metadata": {},
   "source": [
    "# U.S. Medical Insurance Costs"
   ]
  },
  {
   "cell_type": "markdown",
   "metadata": {},
   "source": [
    "Goal: The goal of this project is to optimize the insurance cost in my future. This project will help me decide where to live if I want to have children and what my bmi should be (regarding bmi I will try to inspect if lower means alwas better). \n",
    "\n",
    "Data: For this project I am assuming that insurance is provided by one company. Also In the main part I won't focus on sex and smoking since I want change my sex and I will never smoke. So I will filter them out"
   ]
  },
  {
   "cell_type": "markdown",
   "metadata": {},
   "source": [
    "Firstly I have imported pandas library and insurance.csv"
   ]
  },
  {
   "cell_type": "code",
   "execution_count": 2,
   "metadata": {},
   "outputs": [],
   "source": [
    "import csv\n",
    "import pandas as pd\n",
    "\n",
    "starting_df = pd.read_csv(\"insurance.csv\")\n",
    "test = 1111\n",
    "\n"
   ]
  },
  {
   "cell_type": "markdown",
   "metadata": {},
   "source": [
    "Now I want to check if there are any rows with Null or other \"bad\" values."
   ]
  },
  {
   "cell_type": "code",
   "execution_count": 3,
   "metadata": {},
   "outputs": [
    {
     "name": "stdout",
     "output_type": "stream",
     "text": [
      "[False]\n"
     ]
    }
   ],
   "source": [
    "\n",
    "def check_for_nulls (df):\n",
    "    df[\"nulls\"] = df.apply(lambda row: row.isnull().any(), axis=1)\n",
    "    return df\n",
    "test_null = check_for_nulls(starting_df)\n",
    "\n",
    "print(test_null[\"nulls\"].unique())\n"
   ]
  },
  {
   "cell_type": "code",
   "execution_count": 4,
   "metadata": {},
   "outputs": [
    {
     "name": "stdout",
     "output_type": "stream",
     "text": [
      "Index(['age', 'sex', 'bmi', 'children', 'smoker', 'region', 'charges'], dtype='object')\n"
     ]
    }
   ],
   "source": [
    "starting_df.drop(columns=['nulls'], inplace=True)\n",
    "print(starting_df.columns)"
   ]
  },
  {
   "cell_type": "markdown",
   "metadata": {},
   "source": []
  },
  {
   "cell_type": "markdown",
   "metadata": {},
   "source": [
    "creation of filtered_df"
   ]
  },
  {
   "cell_type": "code",
   "execution_count": 6,
   "metadata": {},
   "outputs": [
    {
     "name": "stdout",
     "output_type": "stream",
     "text": [
      "   index  age   sex     bmi  children smoker     region      charges\n",
      "0      1   18  male  33.770         1     no  southeast   1725.55230\n",
      "1      2   28  male  33.000         3     no  southeast   4449.46200\n",
      "2      3   33  male  22.705         0     no  northwest  21984.47061\n",
      "3      4   32  male  28.880         0     no  northwest   3866.85520\n",
      "4      8   37  male  29.830         2     no  northeast   6406.41070\n",
      "5     10   25  male  26.220         0     no  northeast   2721.32080\n",
      "6     12   23  male  34.400         0     no  southwest   1826.84300\n",
      "7     15   19  male  24.600         1     no  southwest   1837.23700\n",
      "8     17   23  male  23.845         0     no  northeast   2395.17155\n",
      "9     18   56  male  40.300         0     no  southwest  10602.38500\n"
     ]
    }
   ],
   "source": [
    "filtered_df = starting_df[(starting_df[\"smoker\"]==\"no\")&(starting_df[\"sex\"]==\"male\")].reset_index()\n",
    "print(filtered_df.head(10))"
   ]
  },
  {
   "cell_type": "markdown",
   "metadata": {},
   "source": [
    "We now want to confirm whether we can determine whether the variables we want to examine (number of children and region) will be affected by the other variables (age and bmi) that we logically know increase the price of insurance. Therefore, we will find the median average age and bmi for the options in the number of children and region columns and determine whether it is worth examining them further. If the difference is too large we will not be sure if they really affect the final price or if logical variables are responsible. My guess is that region might not be affected and the number of children might because older people tend to have more children, but we'll see:)\n",
    "\n"
   ]
  },
  {
   "cell_type": "code",
   "execution_count": 10,
   "metadata": {},
   "outputs": [
    {
     "name": "stdout",
     "output_type": "stream",
     "text": [
      "      region        bmi\n",
      "0  northeast  28.861760\n",
      "1  northwest  28.930379\n",
      "2  southeast  34.129552\n",
      "3  southwest  31.019841\n",
      "      region        age\n",
      "0  northeast  39.216000\n",
      "1  northwest  38.568182\n",
      "2  southeast  38.261194\n",
      "3  southwest  40.277778\n",
      "   children        bmi\n",
      "0         0  30.731099\n",
      "1         1  30.928615\n",
      "2         2  30.783580\n",
      "3         3  30.768545\n",
      "4         4  31.407727\n",
      "5         5  28.792500\n",
      "   children        age\n",
      "0         0  39.116592\n",
      "1         1  39.392308\n",
      "2         2  37.920455\n",
      "3         3  40.836364\n",
      "4         4  38.454545\n",
      "5         5  34.500000\n",
      "      region      bmi\n",
      "0  northeast  28.3100\n",
      "1  northwest  29.1175\n",
      "2  southeast  33.8250\n",
      "3  southwest  30.5000\n",
      "      region   age\n",
      "0  northeast  40.0\n",
      "1  northwest  38.0\n",
      "2  southeast  38.5\n",
      "3  southwest  42.0\n",
      "   children      bmi\n",
      "0         0  30.5900\n",
      "1         1  30.1500\n",
      "2         2  30.5425\n",
      "3         3  30.8750\n",
      "4         4  30.8750\n",
      "5         5  27.1500\n",
      "   children   age\n",
      "0         0  39.0\n",
      "1         1  40.0\n",
      "2         2  39.0\n",
      "3         3  43.0\n",
      "4         4  39.0\n",
      "5         5  33.0\n"
     ]
    }
   ],
   "source": [
    "region_mean_bmi = filtered_df.groupby(\"region\")[\"bmi\"].mean().reset_index()\n",
    "print(region_mean_bmi)\n",
    "region_mean_age=filtered_df.groupby(\"region\")[\"age\"].mean().reset_index()\n",
    "print(region_mean_age)\n",
    "children_mean_bmi=filtered_df.groupby(\"children\")[\"bmi\"].mean().reset_index()\n",
    "print(children_mean_bmi)\n",
    "children_mean_age=filtered_df.groupby(\"children\")[\"age\"].mean().reset_index()\n",
    "print(children_mean_age)\n",
    "region_median_bmi = filtered_df.groupby(\"region\")[\"bmi\"].median().reset_index()\n",
    "print(region_median_bmi)\n",
    "region_median_age=filtered_df.groupby(\"region\")[\"age\"].median().reset_index()\n",
    "print(region_median_age)\n",
    "children_median_bmi=filtered_df.groupby(\"children\")[\"bmi\"].median().reset_index()\n",
    "print(children_median_bmi)\n",
    "children_median_age=filtered_df.groupby(\"children\")[\"age\"].median().reset_index()\n",
    "print(children_median_age)"
   ]
  },
  {
   "cell_type": "markdown",
   "metadata": {},
   "source": [
    "This results are quite suprising for me it seems that number of children have a little impact on bmi and age as well. Even more supringly dads of 5 kids are ussually younger. Regarding the region we see that northest and northwest has simular bmi. Southwest has a really high bmi in comparaison to others and southest is also a bit higher. Regarding age southeast has the lowest average age northwest(+0.3) and norteast(+1) are quite close and southwest is bit more far(+2). "
   ]
  },
  {
   "cell_type": "code",
   "execution_count": 13,
   "metadata": {},
   "outputs": [
    {
     "name": "stdout",
     "output_type": "stream",
     "text": [
      "      region      charges\n",
      "0  northeast  8664.042222\n",
      "1  northwest  8320.689321\n",
      "2  southeast  7609.003587\n",
      "3  southwest  7778.905534\n",
      "   children       charges\n",
      "0         0   7530.806677\n",
      "1         1   7837.147396\n",
      "2         2   9020.567024\n",
      "3         3   9025.530139\n",
      "4         4  10305.014255\n",
      "5         5   7931.658310\n"
     ]
    }
   ],
   "source": [
    "region_mean_cost = filtered_df.groupby(\"region\")[\"charges\"].mean().reset_index()\n",
    "print(region_mean_cost)\n",
    "children_mean_cost=filtered_df.groupby(\"children\")[\"charges\"].mean().reset_index()\n",
    "print(children_mean_cost)"
   ]
  },
  {
   "cell_type": "code",
   "execution_count": 15,
   "metadata": {},
   "outputs": [
    {
     "name": "stdout",
     "output_type": "stream",
     "text": [
      "517\n",
      "10\n"
     ]
    }
   ],
   "source": [
    "print(filtered_df[\"children\"].count())\n",
    "count = len(filtered_df[filtered_df[\"children\"] == 5])\n",
    "print(count)"
   ]
  },
  {
   "cell_type": "code",
   "execution_count": 17,
   "metadata": {},
   "outputs": [
    {
     "name": "stdout",
     "output_type": "stream",
     "text": [
      "      region      charges\n",
      "0  northeast  2181.844181\n",
      "1  northwest  2913.385044\n",
      "2  southeast  3137.722061\n",
      "3  southwest  3030.349256\n",
      "      region  charges\n",
      "0  northeast        8\n",
      "1  northwest       17\n",
      "2  southeast       10\n",
      "3  southwest       13\n"
     ]
    }
   ],
   "source": [
    "currently_best_df = filtered_df[(filtered_df[\"age\"]>=19)&(filtered_df[\"age\"]<=23)&(filtered_df[\"children\"]==0)]\n",
    "region_current_mean_cost = currently_best_df.groupby(\"region\")[\"charges\"].mean().reset_index()\n",
    "print(region_current_mean_cost)\n",
    "region_current_count = currently_best_df.groupby(\"region\")[\"charges\"].count().reset_index()\n",
    "print(region_current_count)"
   ]
  }
 ],
 "metadata": {
  "kernelspec": {
   "display_name": "base",
   "language": "python",
   "name": "python3"
  },
  "language_info": {
   "codemirror_mode": {
    "name": "ipython",
    "version": 3
   },
   "file_extension": ".py",
   "mimetype": "text/x-python",
   "name": "python",
   "nbconvert_exporter": "python",
   "pygments_lexer": "ipython3",
   "version": "3.12.7"
  }
 },
 "nbformat": 4,
 "nbformat_minor": 4
}
