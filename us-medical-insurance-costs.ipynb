{
 "cells": [
  {
   "cell_type": "markdown",
   "metadata": {},
   "source": [
    "# U.S. Medical Insurance Costs"
   ]
  },
  {
   "cell_type": "markdown",
   "metadata": {},
   "source": [
    "Goal: The goal of this project is to optimize the insurance cost in my future. This project will help me decide where to live if I want to have children and what my bmi should be (regarding bmi I will try to inspect if lower means alwas better). \n",
    "\n",
    "Data: For this project I am assuming that insurance is provided by one company. Also In the main part I won't focus on sex and smoking since I want change my sex and I will never smoke. So I will filter them out"
   ]
  },
  {
   "cell_type": "markdown",
   "metadata": {},
   "source": [
    "## Preparing Data\n",
    "Firstly I have imported pandas library and insurance.csv"
   ]
  },
  {
   "cell_type": "code",
   "execution_count": 2,
   "metadata": {},
   "outputs": [],
   "source": [
    "import csv\n",
    "import pandas as pd\n",
    "\n",
    "starting_df = pd.read_csv(\"insurance.csv\")\n",
    "test = 1111\n",
    "\n"
   ]
  },
  {
   "cell_type": "markdown",
   "metadata": {},
   "source": [
    "Now I want to check if there are any rows with Null or other \"bad\" values."
   ]
  },
  {
   "cell_type": "code",
   "execution_count": 3,
   "metadata": {},
   "outputs": [
    {
     "name": "stdout",
     "output_type": "stream",
     "text": [
      "[False]\n"
     ]
    }
   ],
   "source": [
    "\n",
    "def check_for_nulls (df):\n",
    "    df[\"nulls\"] = df.apply(lambda row: row.isnull().any(), axis=1)\n",
    "    return df\n",
    "test_null = check_for_nulls(starting_df)\n",
    "\n",
    "print(test_null[\"nulls\"].unique())\n",
    "\n"
   ]
  },
  {
   "cell_type": "code",
   "execution_count": 4,
   "metadata": {},
   "outputs": [
    {
     "name": "stdout",
     "output_type": "stream",
     "text": [
      "Index(['age', 'sex', 'bmi', 'children', 'smoker', 'region', 'charges'], dtype='object')\n"
     ]
    }
   ],
   "source": [
    "starting_df.drop(columns=['nulls'], inplace=True)\n",
    "print(starting_df.columns)"
   ]
  },
  {
   "cell_type": "markdown",
   "metadata": {},
   "source": [
    "## Minimizing My Insurance Cost: "
   ]
  },
  {
   "cell_type": "code",
   "execution_count": 5,
   "metadata": {},
   "outputs": [],
   "source": [
    "#Jakub's Code"
   ]
  },
  {
   "cell_type": "markdown",
   "metadata": {},
   "source": [
    "## Evaluating Cost-BMI relationship:\n",
    "### Steps Brainstorm:\n",
    " - What is the average cost of insurance. the ave bmi?\n",
    "### Approach Breakdown\n",
    " - Add column that divides bmi into medical catagories: obese, etc\n",
    " - Find Mean and Medium Insurance cost within each bmi catagory\n",
    " - Loop through each peron in each bmi catagory, and find the mean and median cost paid by people of same/similar age, sex, region, children, smoking status (everything but bmi) and compare that to the mean and median cost at this bmi catagory. record the difference to see if there are any trends where people in a certain bmi catagory typically pay more or less than other of their same age,sec etc.\n",
    " "
   ]
  },
  {
   "cell_type": "markdown",
   "metadata": {},
   "source": [
    "### 1. Aggregate BMI catagories\n",
    "Add column with bmi catagories (source: [cdc.gov](https://www.cdc.gov/bmi/adult-calculator/bmi-categories.html))\n",
    "- Underweight: Less than 18.5\n",
    "- Healthy Weight: 18.5 to less than 25\n",
    "- Overweight: 25 to less than 30\n",
    "- Obesity: 30 or greater\n",
    "    - Class 1 Obesity: 30 to less than 35\n",
    "    - Class 2 Obesity: 35 to less than 40\n",
    "    - Class 3 (Severe) Obesity: 40 or greater\n",
    "\n",
    "Calculate Average and Median Insurance Costs by BMI Catagory\n"
   ]
  },
  {
   "cell_type": "code",
   "execution_count": 34,
   "metadata": {},
   "outputs": [
    {
     "name": "stdout",
     "output_type": "stream",
     "text": [
      "   age     sex     bmi  children smoker     region      charges  \\\n",
      "0   19  female  27.900         0    yes  southwest  16884.92400   \n",
      "1   18    male  33.770         1     no  southeast   1725.55230   \n",
      "2   28    male  33.000         3     no  southeast   4449.46200   \n",
      "3   33    male  22.705         0     no  northwest  21984.47061   \n",
      "4   32    male  28.880         0     no  northwest   3866.85520   \n",
      "\n",
      "       bmi_catagory  \n",
      "0      c_overweight  \n",
      "1   d_class_1_obese  \n",
      "2   d_class_1_obese  \n",
      "3  b_healthy_weight  \n",
      "4      c_overweight  \n",
      "                       charges      \n",
      "                          mean count\n",
      "bmi_catagory                        \n",
      "a_underweight      8852.200585    20\n",
      "b_healthy_weight  10409.337709   225\n",
      "c_overweight      10987.509891   386\n",
      "d_class_1_obese   14419.674970   391\n",
      "e_class_2_obese   17022.258883   225\n",
      "f_class_3_obese   16784.615546    91\n"
     ]
    }
   ],
   "source": [
    "import numpy as np\n",
    "\n",
    "#function to sort into bmi catagory\n",
    "def bmi_catagory_sorter(bmi):\n",
    "    if bmi >= 40:\n",
    "        return 'f_class_3_obese'\n",
    "    elif  bmi >= 35:\n",
    "        return 'e_class_2_obese'\n",
    "    elif  bmi >= 30:\n",
    "        return 'd_class_1_obese'\n",
    "    elif  bmi >= 25:\n",
    "        return 'c_overweight'\n",
    "    elif  bmi >= 18.5:\n",
    "        return 'b_healthy_weight'\n",
    "    elif  bmi < 18.5:\n",
    "        return 'a_underweight'\n",
    "    else:\n",
    "        return 'err: input should be a number'\n",
    "\n",
    "#Add columns with Adult BMI Category\n",
    "bmi_analysis_df = starting_df\n",
    "bmi_analysis_df['bmi_catagory'] = starting_df.bmi.apply(bmi_catagory_sorter)\n",
    "print(bmi_analysis_df.head())\n",
    "\n",
    "aggregate_by_bmi_catagory = bmi_analysis_df.groupby('bmi_catagory').agg({'charges':['mean','count']})\n",
    "print(aggregate_by_bmi_catagory)\n",
    "\n",
    "# avg_cost_by_bmi_catagory = bmi_analysis_df.groupby('bmi_catagory').charges.mean().reset_index().rename(columns={'charges':'bmi_cat_mean'})\n",
    "# #count_by_bmi_catagory = bmi_analysis_df.groupby('bmi_catagory').charges.count().reset_index().rename(columns={'charges':'bmi_cat_count'})\n",
    "# print(bmi_catagory_aggregated.sort_values(by=['bmi_cat_mean'],ascending=False))"
   ]
  },
  {
   "cell_type": "markdown",
   "metadata": {},
   "source": [
    "### 2. Compare patience's insurance cost in each BMI catagory to the average people of similar age, region, sex, number of children and smoking status\n",
    "For each BMI Catagory:\n",
    "- Loop through all patiences\n",
    "    - Save their insurance cost\n",
    "    - Then get count and average insurance cost of all people who match this patiences age, region, sex, number of children and smoking status\n",
    "    - Get difference between this person's cost and average and save to series\n",
    "- Calculate averge cost difference for each BMI Catagory"
   ]
  },
  {
   "cell_type": "code",
   "execution_count": null,
   "metadata": {},
   "outputs": [
    {
     "name": "stdout",
     "output_type": "stream",
     "text": [
      "           charges\n",
      "mean   7959.294951\n",
      "count    56.000000\n",
      "<class 'pandas.core.frame.DataFrame'>\n",
      "56.0\n"
     ]
    }
   ],
   "source": [
    "#functions\n",
    "#This function gets the count and average of insurance cost of each patiene with the imput age +/- 2 years, sex, children, smoker, region\n",
    "# - Essentially the average cost of a simlar people across all bmis and count to record the sample size\n",
    "def get_avg_with_bmi_variable(ind_age,ind_sex,ind_children,ind_smoker,ind_region):\n",
    "    return bmi_analysis_df[((bmi_analysis_df.age <= ind_age + 2) | (bmi_analysis_df.age >= ind_age - 2) )\n",
    "                            & (bmi_analysis_df.sex == ind_sex)\n",
    "                            & (bmi_analysis_df.children == ind_children) \n",
    "                            & (bmi_analysis_df.smoker == ind_smoker) \n",
    "                            & (bmi_analysis_df.region == ind_region)].agg({'charges': ['mean', 'count']})\n",
    "#This function will run on all rows of bmi_analysis_df grouped by bmi_catagory \n",
    "# finding the difference between that rows charges and the average calculated by the previous function\n",
    "def get_percent_dif_from_avg(row):\n",
    "    i_charges = row['charges']\n",
    "    i_age = row['age']\n",
    "    i_sex = row['sex']\n",
    "    i_children = row['children']\n",
    "    i_smoker = row['smoker']\n",
    "    i_region = row['region']\n",
    "\n",
    "#get_percent_dif_from_avg = lambda row : 100*((row['charges'] - get_avg_with_bmi_variable(row['age'],row['sex'],row['children'],row['smoker'],row['region']).iloc[0].charges)/row[get_avg_with_bmi_variable(row['age'],row['sex'],row['children'],row['smoker'],row['region']).iloc[0].charges])\n",
    "#get_percent_dif_from_avg_smpl_size = lambda row : row['charges'] - get_avg_with_bmi_variable(row['age'],row['sex'],row['children'],row['smoker'],row['region']).iloc[1].charges\n",
    "\n",
    "#test functions\n",
    "test = get_avg_with_bmi_variable(28,'male',0,'no','northeast')\n",
    "print(test)\n",
    "print(type(test))\n",
    "print(test.iloc[1].charges)\n"
   ]
  },
  {
   "cell_type": "code",
   "execution_count": null,
   "metadata": {},
   "outputs": [
    {
     "ename": "KeyError",
     "evalue": "27428.377302999997",
     "output_type": "error",
     "traceback": [
      "\u001b[1;31m---------------------------------------------------------------------------\u001b[0m",
      "\u001b[1;31mKeyError\u001b[0m                                  Traceback (most recent call last)",
      "File \u001b[1;32mc:\\Users\\lydia\\anaconda3\\Lib\\site-packages\\pandas\\core\\indexes\\base.py:3805\u001b[0m, in \u001b[0;36mIndex.get_loc\u001b[1;34m(self, key)\u001b[0m\n\u001b[0;32m   3804\u001b[0m \u001b[38;5;28;01mtry\u001b[39;00m:\n\u001b[1;32m-> 3805\u001b[0m     \u001b[38;5;28;01mreturn\u001b[39;00m \u001b[38;5;28mself\u001b[39m\u001b[38;5;241m.\u001b[39m_engine\u001b[38;5;241m.\u001b[39mget_loc(casted_key)\n\u001b[0;32m   3806\u001b[0m \u001b[38;5;28;01mexcept\u001b[39;00m \u001b[38;5;167;01mKeyError\u001b[39;00m \u001b[38;5;28;01mas\u001b[39;00m err:\n",
      "File \u001b[1;32mindex.pyx:167\u001b[0m, in \u001b[0;36mpandas._libs.index.IndexEngine.get_loc\u001b[1;34m()\u001b[0m\n",
      "File \u001b[1;32mindex.pyx:196\u001b[0m, in \u001b[0;36mpandas._libs.index.IndexEngine.get_loc\u001b[1;34m()\u001b[0m\n",
      "File \u001b[1;32mpandas\\\\_libs\\\\hashtable_class_helper.pxi:7081\u001b[0m, in \u001b[0;36mpandas._libs.hashtable.PyObjectHashTable.get_item\u001b[1;34m()\u001b[0m\n",
      "File \u001b[1;32mpandas\\\\_libs\\\\hashtable_class_helper.pxi:7089\u001b[0m, in \u001b[0;36mpandas._libs.hashtable.PyObjectHashTable.get_item\u001b[1;34m()\u001b[0m\n",
      "\u001b[1;31mKeyError\u001b[0m: 27428.377302999997",
      "\nThe above exception was the direct cause of the following exception:\n",
      "\u001b[1;31mKeyError\u001b[0m                                  Traceback (most recent call last)",
      "Cell \u001b[1;32mIn[59], line 1\u001b[0m\n\u001b[1;32m----> 1\u001b[0m bmi_analysis_df[\u001b[38;5;124m'\u001b[39m\u001b[38;5;124mcost_diff_from_avg\u001b[39m\u001b[38;5;124m'\u001b[39m] \u001b[38;5;241m=\u001b[39m bmi_analysis_df\u001b[38;5;241m.\u001b[39mapply(get_percent_dif_from_avg,axis\u001b[38;5;241m=\u001b[39m\u001b[38;5;241m1\u001b[39m)\n\u001b[0;32m      2\u001b[0m bmi_analysis_df[\u001b[38;5;124m'\u001b[39m\u001b[38;5;124mcost_diff_from_avg_smpl_size\u001b[39m\u001b[38;5;124m'\u001b[39m] \u001b[38;5;241m=\u001b[39m bmi_analysis_df\u001b[38;5;241m.\u001b[39mapply(get_percent_dif_from_avg_smpl_size,axis\u001b[38;5;241m=\u001b[39m\u001b[38;5;241m1\u001b[39m)\n\u001b[0;32m      3\u001b[0m \u001b[38;5;28mprint\u001b[39m(bmi_analysis_df\u001b[38;5;241m.\u001b[39mhead())\n",
      "File \u001b[1;32mc:\\Users\\lydia\\anaconda3\\Lib\\site-packages\\pandas\\core\\frame.py:10374\u001b[0m, in \u001b[0;36mDataFrame.apply\u001b[1;34m(self, func, axis, raw, result_type, args, by_row, engine, engine_kwargs, **kwargs)\u001b[0m\n\u001b[0;32m  10360\u001b[0m \u001b[38;5;28;01mfrom\u001b[39;00m \u001b[38;5;21;01mpandas\u001b[39;00m\u001b[38;5;21;01m.\u001b[39;00m\u001b[38;5;21;01mcore\u001b[39;00m\u001b[38;5;21;01m.\u001b[39;00m\u001b[38;5;21;01mapply\u001b[39;00m \u001b[38;5;28;01mimport\u001b[39;00m frame_apply\n\u001b[0;32m  10362\u001b[0m op \u001b[38;5;241m=\u001b[39m frame_apply(\n\u001b[0;32m  10363\u001b[0m     \u001b[38;5;28mself\u001b[39m,\n\u001b[0;32m  10364\u001b[0m     func\u001b[38;5;241m=\u001b[39mfunc,\n\u001b[1;32m   (...)\u001b[0m\n\u001b[0;32m  10372\u001b[0m     kwargs\u001b[38;5;241m=\u001b[39mkwargs,\n\u001b[0;32m  10373\u001b[0m )\n\u001b[1;32m> 10374\u001b[0m \u001b[38;5;28;01mreturn\u001b[39;00m op\u001b[38;5;241m.\u001b[39mapply()\u001b[38;5;241m.\u001b[39m__finalize__(\u001b[38;5;28mself\u001b[39m, method\u001b[38;5;241m=\u001b[39m\u001b[38;5;124m\"\u001b[39m\u001b[38;5;124mapply\u001b[39m\u001b[38;5;124m\"\u001b[39m)\n",
      "File \u001b[1;32mc:\\Users\\lydia\\anaconda3\\Lib\\site-packages\\pandas\\core\\apply.py:916\u001b[0m, in \u001b[0;36mFrameApply.apply\u001b[1;34m(self)\u001b[0m\n\u001b[0;32m    913\u001b[0m \u001b[38;5;28;01melif\u001b[39;00m \u001b[38;5;28mself\u001b[39m\u001b[38;5;241m.\u001b[39mraw:\n\u001b[0;32m    914\u001b[0m     \u001b[38;5;28;01mreturn\u001b[39;00m \u001b[38;5;28mself\u001b[39m\u001b[38;5;241m.\u001b[39mapply_raw(engine\u001b[38;5;241m=\u001b[39m\u001b[38;5;28mself\u001b[39m\u001b[38;5;241m.\u001b[39mengine, engine_kwargs\u001b[38;5;241m=\u001b[39m\u001b[38;5;28mself\u001b[39m\u001b[38;5;241m.\u001b[39mengine_kwargs)\n\u001b[1;32m--> 916\u001b[0m \u001b[38;5;28;01mreturn\u001b[39;00m \u001b[38;5;28mself\u001b[39m\u001b[38;5;241m.\u001b[39mapply_standard()\n",
      "File \u001b[1;32mc:\\Users\\lydia\\anaconda3\\Lib\\site-packages\\pandas\\core\\apply.py:1063\u001b[0m, in \u001b[0;36mFrameApply.apply_standard\u001b[1;34m(self)\u001b[0m\n\u001b[0;32m   1061\u001b[0m \u001b[38;5;28;01mdef\u001b[39;00m \u001b[38;5;21mapply_standard\u001b[39m(\u001b[38;5;28mself\u001b[39m):\n\u001b[0;32m   1062\u001b[0m     \u001b[38;5;28;01mif\u001b[39;00m \u001b[38;5;28mself\u001b[39m\u001b[38;5;241m.\u001b[39mengine \u001b[38;5;241m==\u001b[39m \u001b[38;5;124m\"\u001b[39m\u001b[38;5;124mpython\u001b[39m\u001b[38;5;124m\"\u001b[39m:\n\u001b[1;32m-> 1063\u001b[0m         results, res_index \u001b[38;5;241m=\u001b[39m \u001b[38;5;28mself\u001b[39m\u001b[38;5;241m.\u001b[39mapply_series_generator()\n\u001b[0;32m   1064\u001b[0m     \u001b[38;5;28;01melse\u001b[39;00m:\n\u001b[0;32m   1065\u001b[0m         results, res_index \u001b[38;5;241m=\u001b[39m \u001b[38;5;28mself\u001b[39m\u001b[38;5;241m.\u001b[39mapply_series_numba()\n",
      "File \u001b[1;32mc:\\Users\\lydia\\anaconda3\\Lib\\site-packages\\pandas\\core\\apply.py:1081\u001b[0m, in \u001b[0;36mFrameApply.apply_series_generator\u001b[1;34m(self)\u001b[0m\n\u001b[0;32m   1078\u001b[0m \u001b[38;5;28;01mwith\u001b[39;00m option_context(\u001b[38;5;124m\"\u001b[39m\u001b[38;5;124mmode.chained_assignment\u001b[39m\u001b[38;5;124m\"\u001b[39m, \u001b[38;5;28;01mNone\u001b[39;00m):\n\u001b[0;32m   1079\u001b[0m     \u001b[38;5;28;01mfor\u001b[39;00m i, v \u001b[38;5;129;01min\u001b[39;00m \u001b[38;5;28menumerate\u001b[39m(series_gen):\n\u001b[0;32m   1080\u001b[0m         \u001b[38;5;66;03m# ignore SettingWithCopy here in case the user mutates\u001b[39;00m\n\u001b[1;32m-> 1081\u001b[0m         results[i] \u001b[38;5;241m=\u001b[39m \u001b[38;5;28mself\u001b[39m\u001b[38;5;241m.\u001b[39mfunc(v, \u001b[38;5;241m*\u001b[39m\u001b[38;5;28mself\u001b[39m\u001b[38;5;241m.\u001b[39margs, \u001b[38;5;241m*\u001b[39m\u001b[38;5;241m*\u001b[39m\u001b[38;5;28mself\u001b[39m\u001b[38;5;241m.\u001b[39mkwargs)\n\u001b[0;32m   1082\u001b[0m         \u001b[38;5;28;01mif\u001b[39;00m \u001b[38;5;28misinstance\u001b[39m(results[i], ABCSeries):\n\u001b[0;32m   1083\u001b[0m             \u001b[38;5;66;03m# If we have a view on v, we need to make a copy because\u001b[39;00m\n\u001b[0;32m   1084\u001b[0m             \u001b[38;5;66;03m#  series_generator will swap out the underlying data\u001b[39;00m\n\u001b[0;32m   1085\u001b[0m             results[i] \u001b[38;5;241m=\u001b[39m results[i]\u001b[38;5;241m.\u001b[39mcopy(deep\u001b[38;5;241m=\u001b[39m\u001b[38;5;28;01mFalse\u001b[39;00m)\n",
      "Cell \u001b[1;32mIn[58], line 12\u001b[0m, in \u001b[0;36m<lambda>\u001b[1;34m(row)\u001b[0m\n\u001b[0;32m      5\u001b[0m     \u001b[38;5;28;01mreturn\u001b[39;00m bmi_analysis_df[((bmi_analysis_df\u001b[38;5;241m.\u001b[39mage \u001b[38;5;241m<\u001b[39m\u001b[38;5;241m=\u001b[39m ind_age \u001b[38;5;241m+\u001b[39m \u001b[38;5;241m2\u001b[39m) \u001b[38;5;241m|\u001b[39m (bmi_analysis_df\u001b[38;5;241m.\u001b[39mage \u001b[38;5;241m>\u001b[39m\u001b[38;5;241m=\u001b[39m ind_age \u001b[38;5;241m-\u001b[39m \u001b[38;5;241m2\u001b[39m) )\n\u001b[0;32m      6\u001b[0m                             \u001b[38;5;241m&\u001b[39m (bmi_analysis_df\u001b[38;5;241m.\u001b[39msex \u001b[38;5;241m==\u001b[39m ind_sex)\n\u001b[0;32m      7\u001b[0m                             \u001b[38;5;241m&\u001b[39m (bmi_analysis_df\u001b[38;5;241m.\u001b[39mchildren \u001b[38;5;241m==\u001b[39m ind_children) \n\u001b[0;32m      8\u001b[0m                             \u001b[38;5;241m&\u001b[39m (bmi_analysis_df\u001b[38;5;241m.\u001b[39msmoker \u001b[38;5;241m==\u001b[39m ind_smoker) \n\u001b[0;32m      9\u001b[0m                             \u001b[38;5;241m&\u001b[39m (bmi_analysis_df\u001b[38;5;241m.\u001b[39mregion \u001b[38;5;241m==\u001b[39m ind_region)]\u001b[38;5;241m.\u001b[39magg({\u001b[38;5;124m'\u001b[39m\u001b[38;5;124mcharges\u001b[39m\u001b[38;5;124m'\u001b[39m: [\u001b[38;5;124m'\u001b[39m\u001b[38;5;124mmean\u001b[39m\u001b[38;5;124m'\u001b[39m, \u001b[38;5;124m'\u001b[39m\u001b[38;5;124mcount\u001b[39m\u001b[38;5;124m'\u001b[39m]})\n\u001b[0;32m     10\u001b[0m \u001b[38;5;66;03m#This function will run on all rows of bmi_analysis_df grouped by bmi_catagory \u001b[39;00m\n\u001b[0;32m     11\u001b[0m \u001b[38;5;66;03m# finding the difference between that rows charges and the average calculated by the previous function\u001b[39;00m\n\u001b[1;32m---> 12\u001b[0m get_percent_dif_from_avg \u001b[38;5;241m=\u001b[39m \u001b[38;5;28;01mlambda\u001b[39;00m row : \u001b[38;5;241m100\u001b[39m\u001b[38;5;241m*\u001b[39m((row[\u001b[38;5;124m'\u001b[39m\u001b[38;5;124mcharges\u001b[39m\u001b[38;5;124m'\u001b[39m] \u001b[38;5;241m-\u001b[39m get_avg_with_bmi_variable(row[\u001b[38;5;124m'\u001b[39m\u001b[38;5;124mage\u001b[39m\u001b[38;5;124m'\u001b[39m],row[\u001b[38;5;124m'\u001b[39m\u001b[38;5;124msex\u001b[39m\u001b[38;5;124m'\u001b[39m],row[\u001b[38;5;124m'\u001b[39m\u001b[38;5;124mchildren\u001b[39m\u001b[38;5;124m'\u001b[39m],row[\u001b[38;5;124m'\u001b[39m\u001b[38;5;124msmoker\u001b[39m\u001b[38;5;124m'\u001b[39m],row[\u001b[38;5;124m'\u001b[39m\u001b[38;5;124mregion\u001b[39m\u001b[38;5;124m'\u001b[39m])\u001b[38;5;241m.\u001b[39miloc[\u001b[38;5;241m0\u001b[39m]\u001b[38;5;241m.\u001b[39mcharges)\u001b[38;5;241m/\u001b[39mrow[get_avg_with_bmi_variable(row[\u001b[38;5;124m'\u001b[39m\u001b[38;5;124mage\u001b[39m\u001b[38;5;124m'\u001b[39m],row[\u001b[38;5;124m'\u001b[39m\u001b[38;5;124msex\u001b[39m\u001b[38;5;124m'\u001b[39m],row[\u001b[38;5;124m'\u001b[39m\u001b[38;5;124mchildren\u001b[39m\u001b[38;5;124m'\u001b[39m],row[\u001b[38;5;124m'\u001b[39m\u001b[38;5;124msmoker\u001b[39m\u001b[38;5;124m'\u001b[39m],row[\u001b[38;5;124m'\u001b[39m\u001b[38;5;124mregion\u001b[39m\u001b[38;5;124m'\u001b[39m])\u001b[38;5;241m.\u001b[39miloc[\u001b[38;5;241m0\u001b[39m]\u001b[38;5;241m.\u001b[39mcharges])\n\u001b[0;32m     13\u001b[0m get_percent_dif_from_avg_smpl_size \u001b[38;5;241m=\u001b[39m \u001b[38;5;28;01mlambda\u001b[39;00m row : row[\u001b[38;5;124m'\u001b[39m\u001b[38;5;124mcharges\u001b[39m\u001b[38;5;124m'\u001b[39m] \u001b[38;5;241m-\u001b[39m get_avg_with_bmi_variable(row[\u001b[38;5;124m'\u001b[39m\u001b[38;5;124mage\u001b[39m\u001b[38;5;124m'\u001b[39m],row[\u001b[38;5;124m'\u001b[39m\u001b[38;5;124msex\u001b[39m\u001b[38;5;124m'\u001b[39m],row[\u001b[38;5;124m'\u001b[39m\u001b[38;5;124mchildren\u001b[39m\u001b[38;5;124m'\u001b[39m],row[\u001b[38;5;124m'\u001b[39m\u001b[38;5;124msmoker\u001b[39m\u001b[38;5;124m'\u001b[39m],row[\u001b[38;5;124m'\u001b[39m\u001b[38;5;124mregion\u001b[39m\u001b[38;5;124m'\u001b[39m])\u001b[38;5;241m.\u001b[39miloc[\u001b[38;5;241m1\u001b[39m]\u001b[38;5;241m.\u001b[39mcharges\n\u001b[0;32m     15\u001b[0m \u001b[38;5;66;03m#test functions\u001b[39;00m\n",
      "File \u001b[1;32mc:\\Users\\lydia\\anaconda3\\Lib\\site-packages\\pandas\\core\\series.py:1121\u001b[0m, in \u001b[0;36mSeries.__getitem__\u001b[1;34m(self, key)\u001b[0m\n\u001b[0;32m   1118\u001b[0m     \u001b[38;5;28;01mreturn\u001b[39;00m \u001b[38;5;28mself\u001b[39m\u001b[38;5;241m.\u001b[39m_values[key]\n\u001b[0;32m   1120\u001b[0m \u001b[38;5;28;01melif\u001b[39;00m key_is_scalar:\n\u001b[1;32m-> 1121\u001b[0m     \u001b[38;5;28;01mreturn\u001b[39;00m \u001b[38;5;28mself\u001b[39m\u001b[38;5;241m.\u001b[39m_get_value(key)\n\u001b[0;32m   1123\u001b[0m \u001b[38;5;66;03m# Convert generator to list before going through hashable part\u001b[39;00m\n\u001b[0;32m   1124\u001b[0m \u001b[38;5;66;03m# (We will iterate through the generator there to check for slices)\u001b[39;00m\n\u001b[0;32m   1125\u001b[0m \u001b[38;5;28;01mif\u001b[39;00m is_iterator(key):\n",
      "File \u001b[1;32mc:\\Users\\lydia\\anaconda3\\Lib\\site-packages\\pandas\\core\\series.py:1237\u001b[0m, in \u001b[0;36mSeries._get_value\u001b[1;34m(self, label, takeable)\u001b[0m\n\u001b[0;32m   1234\u001b[0m     \u001b[38;5;28;01mreturn\u001b[39;00m \u001b[38;5;28mself\u001b[39m\u001b[38;5;241m.\u001b[39m_values[label]\n\u001b[0;32m   1236\u001b[0m \u001b[38;5;66;03m# Similar to Index.get_value, but we do not fall back to positional\u001b[39;00m\n\u001b[1;32m-> 1237\u001b[0m loc \u001b[38;5;241m=\u001b[39m \u001b[38;5;28mself\u001b[39m\u001b[38;5;241m.\u001b[39mindex\u001b[38;5;241m.\u001b[39mget_loc(label)\n\u001b[0;32m   1239\u001b[0m \u001b[38;5;28;01mif\u001b[39;00m is_integer(loc):\n\u001b[0;32m   1240\u001b[0m     \u001b[38;5;28;01mreturn\u001b[39;00m \u001b[38;5;28mself\u001b[39m\u001b[38;5;241m.\u001b[39m_values[loc]\n",
      "File \u001b[1;32mc:\\Users\\lydia\\anaconda3\\Lib\\site-packages\\pandas\\core\\indexes\\base.py:3812\u001b[0m, in \u001b[0;36mIndex.get_loc\u001b[1;34m(self, key)\u001b[0m\n\u001b[0;32m   3807\u001b[0m     \u001b[38;5;28;01mif\u001b[39;00m \u001b[38;5;28misinstance\u001b[39m(casted_key, \u001b[38;5;28mslice\u001b[39m) \u001b[38;5;129;01mor\u001b[39;00m (\n\u001b[0;32m   3808\u001b[0m         \u001b[38;5;28misinstance\u001b[39m(casted_key, abc\u001b[38;5;241m.\u001b[39mIterable)\n\u001b[0;32m   3809\u001b[0m         \u001b[38;5;129;01mand\u001b[39;00m \u001b[38;5;28many\u001b[39m(\u001b[38;5;28misinstance\u001b[39m(x, \u001b[38;5;28mslice\u001b[39m) \u001b[38;5;28;01mfor\u001b[39;00m x \u001b[38;5;129;01min\u001b[39;00m casted_key)\n\u001b[0;32m   3810\u001b[0m     ):\n\u001b[0;32m   3811\u001b[0m         \u001b[38;5;28;01mraise\u001b[39;00m InvalidIndexError(key)\n\u001b[1;32m-> 3812\u001b[0m     \u001b[38;5;28;01mraise\u001b[39;00m \u001b[38;5;167;01mKeyError\u001b[39;00m(key) \u001b[38;5;28;01mfrom\u001b[39;00m \u001b[38;5;21;01merr\u001b[39;00m\n\u001b[0;32m   3813\u001b[0m \u001b[38;5;28;01mexcept\u001b[39;00m \u001b[38;5;167;01mTypeError\u001b[39;00m:\n\u001b[0;32m   3814\u001b[0m     \u001b[38;5;66;03m# If we have a listlike key, _check_indexing_error will raise\u001b[39;00m\n\u001b[0;32m   3815\u001b[0m     \u001b[38;5;66;03m#  InvalidIndexError. Otherwise we fall through and re-raise\u001b[39;00m\n\u001b[0;32m   3816\u001b[0m     \u001b[38;5;66;03m#  the TypeError.\u001b[39;00m\n\u001b[0;32m   3817\u001b[0m     \u001b[38;5;28mself\u001b[39m\u001b[38;5;241m.\u001b[39m_check_indexing_error(key)\n",
      "\u001b[1;31mKeyError\u001b[0m: 27428.377302999997"
     ]
    }
   ],
   "source": [
    "\n",
    "bmi_analysis_df['cost_diff_from_avg'] = bmi_analysis_df.apply(get_percent_dif_from_avg,axis=1)\n",
    "bmi_analysis_df['cost_diff_from_avg_smpl_size'] = bmi_analysis_df.apply(get_percent_dif_from_avg_smpl_size,axis=1)\n",
    "print(bmi_analysis_df.head())\n",
    "\n",
    "#cost_diff_by_bmi_catagory = bmi_analysis_df.groupby('bmi_catagory').cost_diff_from_avg.mean()\n",
    "\n",
    "print(cost_diff_by_bmi_catagory)"
   ]
  },
  {
   "cell_type": "code",
   "execution_count": null,
   "metadata": {},
   "outputs": [
    {
     "name": "stdout",
     "output_type": "stream",
     "text": [
      "   index  bmi\n",
      "0      0   28\n",
      "1      1   34\n",
      "2      2   33\n",
      "3      3   23\n",
      "4      4   29\n",
      "5      5   26\n",
      "6      6   33\n",
      "7      7   28\n",
      "8      8   30\n",
      "9      9   26\n",
      "   bmi  bmi-freq\n",
      "0   16         1\n",
      "1   17         9\n",
      "2   18        11\n",
      "3   19         8\n",
      "4   20        24\n",
      "5   21        23\n",
      "6   22        35\n",
      "7   23        50\n",
      "8   24        57\n",
      "9   25        62\n",
      "   bmi       charges\n",
      "0   16   1694.796400\n",
      "1   17   6076.167378\n",
      "2   18  11402.702809\n",
      "3   19  10382.876080\n",
      "4   20   8756.253285\n",
      "5   21   7006.185911\n",
      "6   22  10432.877525\n",
      "7   23  10104.465317\n",
      "8   24  11675.051279\n",
      "9   25  12203.856403\n"
     ]
    }
   ],
   "source": [
    "#Assess Data set as a whole\n",
    "\n",
    "#Frequency of each bmi (rounded to 1's place) and \n",
    "\n",
    "\n",
    "count_each_bmi = starting_df.groupby(starting_df.bmi.apply(lambda bmi_float : round(bmi_float))).charges.count().reset_index().rename(columns={'charges': 'bmi-freq'})\n",
    "print(bmi_cost_2)\n",
    " \n",
    "avg_cost_each_bmi = starting_df.groupby(starting_df.bmi.apply(lambda bmi_float : round(bmi_float))).charges.mean().reset_index()\n",
    "print(bmi_cost_3.head(10))\n",
    "\n"
   ]
  },
  {
   "cell_type": "markdown",
   "metadata": {},
   "source": []
  }
 ],
 "metadata": {
  "kernelspec": {
   "display_name": "base",
   "language": "python",
   "name": "python3"
  },
  "language_info": {
   "codemirror_mode": {
    "name": "ipython",
    "version": 3
   },
   "file_extension": ".py",
   "mimetype": "text/x-python",
   "name": "python",
   "nbconvert_exporter": "python",
   "pygments_lexer": "ipython3",
   "version": "3.12.7"
  }
 },
 "nbformat": 4,
 "nbformat_minor": 4
}
